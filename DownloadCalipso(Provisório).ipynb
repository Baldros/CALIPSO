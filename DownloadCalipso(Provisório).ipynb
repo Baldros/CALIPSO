{
 "cells": [
  {
   "cell_type": "code",
   "execution_count": 1,
   "id": "2c008306",
   "metadata": {},
   "outputs": [],
   "source": [
    "# Importações para automação web:\n",
    "from selenium import webdriver\n",
    "from selenium.webdriver.edge.service import Service\n",
    "from selenium.webdriver.support.ui import WebDriverWait\n",
    "from webdriver_manager.microsoft import EdgeChromiumDriverManager\n",
    "from selenium.common.exceptions import NoSuchElementException\n",
    "from selenium.webdriver.support import expected_conditions as EC\n",
    "\n",
    "# Importações Suporte:\n",
    "from time import sleep\n",
    "from tqdm import tqdm\n",
    "\n",
    "# Imporações para algebra-linear:\n",
    "import numpy as np\n",
    "import pandas as pd\n",
    "\n",
    "# Importações para Salvar o arquivo:\n",
    "import os\n",
    "import requests\n",
    "import re\n"
   ]
  },
  {
   "cell_type": "code",
   "execution_count": 5,
   "id": "07bb623a",
   "metadata": {},
   "outputs": [],
   "source": [
    "# Instanciando a classe Service:\n",
    "service = Service(EdgeChromiumDriverManager().install()) # Usada para iniciar uma instância do WebDriver\n",
    "\n",
    "# Instanciando a classe que define o webdriver:\n",
    "options = webdriver.EdgeOptions()\n",
    "\n",
    "# Intanciando o webdriver:\n",
    "navegador = webdriver.Edge(service=service, options=options)"
   ]
  },
  {
   "cell_type": "code",
   "execution_count": 11,
   "id": "dd3f2fd3",
   "metadata": {},
   "outputs": [
    {
     "name": "stdout",
     "output_type": "stream",
     "text": [
      "Insira a URL:\n",
      "https://xfr139.larc.nasa.gov/sflops/Distribution/2024120110619_77680/\n"
     ]
    }
   ],
   "source": [
    "url = input('Insira a URL:\\n')\n",
    "navegador.get(url)"
   ]
  },
  {
   "cell_type": "code",
   "execution_count": 12,
   "id": "8337786d",
   "metadata": {},
   "outputs": [],
   "source": [
    "elements = navegador.find_elements('xpath','/html/body/table/tbody/tr[*]/td[2]/a')"
   ]
  },
  {
   "cell_type": "code",
   "execution_count": 13,
   "id": "49dcce56",
   "metadata": {},
   "outputs": [],
   "source": [
    "hrefs = [element.get_attribute(\"href\") for element in elements]"
   ]
  },
  {
   "cell_type": "code",
   "execution_count": 14,
   "id": "6368a67f",
   "metadata": {},
   "outputs": [
    {
     "name": "stderr",
     "output_type": "stream",
     "text": [
      "100%|████████████████████████████████████████████████████████████████████████████████| 604/604 [08:58<00:00,  1.12it/s]\n"
     ]
    }
   ],
   "source": [
    "for href in tqdm(hrefs):\n",
    "    if href.endswith(\".hdf\"):\n",
    "        navegador.get(href)"
   ]
  },
  {
   "cell_type": "code",
   "execution_count": null,
   "id": "abac6d60",
   "metadata": {},
   "outputs": [],
   "source": [
    "navegador.quit()"
   ]
  },
  {
   "cell_type": "code",
   "execution_count": null,
   "id": "a59e2a21",
   "metadata": {},
   "outputs": [],
   "source": []
  }
 ],
 "metadata": {
  "kernelspec": {
   "display_name": "Python 3 (ipykernel)",
   "language": "python",
   "name": "python3"
  },
  "language_info": {
   "codemirror_mode": {
    "name": "ipython",
    "version": 3
   },
   "file_extension": ".py",
   "mimetype": "text/x-python",
   "name": "python",
   "nbconvert_exporter": "python",
   "pygments_lexer": "ipython3",
   "version": "3.8.16"
  }
 },
 "nbformat": 4,
 "nbformat_minor": 5
}
